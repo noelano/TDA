{
 "cells": [
  {
   "cell_type": "markdown",
   "metadata": {},
   "source": [
    "# TDA Introduction"
   ]
  },
  {
   "cell_type": "markdown",
   "metadata": {},
   "source": [
    "This notebook will serve as an introduction to concepts and techniques in topological data analysis. Hopefully this can be achieved through a mix of some high level on the theory parts and practical code examples with some toy datasets.\n",
    "For the code parts we'll use __[keppler mapper](https://github.com/MLWave/kepler-mapper)__ for the mapper applications with some graphviz for showing simple example plots.\n",
    "On the theory side we'll pull from a few places. First stop will be Hatchers __[point set topology notes](https://www.math.cornell.edu/~hatcher/Top/TopNotes.pdf)__ but we'll also use Robert Ghrists *Elementary Applied Topology*\n"
   ]
  },
  {
   "cell_type": "markdown",
   "metadata": {},
   "source": [
    "## Some Topology"
   ]
  },
  {
   "cell_type": "markdown",
   "metadata": {},
   "source": [
    "From a pure maths point of view topology is a study of open sets. The more inuitive line of thinking is that it's a sort of squishy geometry - it's concerned with the shape of spaces but you're allowed to stretch and pull and bend while still considering the results to be essentially the same.\n",
    "\n",
    "Topology looks at shape through the language of open sets. In fact a *topology* on a set $X$ is a collection $O$ of open sets of $X$ satisfying closure under unions and intersections and with both $\\emptyset$ and $X$ contained in $O$.\n",
    "\n",
    "Continuous maps between topological spaces map open sets to open sets. If a space $X$ can be continuously deformed into a space $Y$ then they're *homeomorphic* and equivalent from a topological point of view.\n",
    "The typical example used here is that of a mug being the same as a donut (torus)."
   ]
  },
  {
   "cell_type": "markdown",
   "metadata": {},
   "source": [
    "### Point Clouds and cell complexes"
   ]
  },
  {
   "cell_type": "markdown",
   "metadata": {},
   "source": [
    "TODO"
   ]
  },
  {
   "cell_type": "markdown",
   "metadata": {},
   "source": [
    "### Mapper algorithm in python"
   ]
  },
  {
   "cell_type": "code",
   "execution_count": 1,
   "metadata": {
    "collapsed": true
   },
   "outputs": [],
   "source": [
    "import numpy as np\n",
    "from matplotlib import pyplot as plt\n",
    "from matplotlib import colors, cm\n",
    "import kmapper as km\n",
    "import graphviz as gz\n",
    "import itertools\n",
    "import colorsys\n",
    "\n",
    "np.random.seed(1234)\n",
    "\n",
    "%matplotlib inline"
   ]
  },
  {
   "cell_type": "markdown",
   "metadata": {},
   "source": [
    "As a toy example lets randomly sample a handful of points from a sphere and use these as the input to mapper to get a feel for how the algorithm works"
   ]
  },
  {
   "cell_type": "code",
   "execution_count": 2,
   "metadata": {
    "collapsed": true
   },
   "outputs": [],
   "source": [
    "# Function to randomly pick from an n-sphere\n",
    "\n",
    "def sample_spherical(npoints, ndim=3):\n",
    "    vec = np.random.randn(ndim, npoints)\n",
    "    vec /= np.linalg.norm(vec, axis=0)\n",
    "    return vec"
   ]
  },
  {
   "cell_type": "code",
   "execution_count": 3,
   "metadata": {},
   "outputs": [
    {
     "data": {
      "text/plain": [
       "<matplotlib.collections.PathCollection at 0x103f2dd8>"
      ]
     },
     "execution_count": 3,
     "metadata": {},
     "output_type": "execute_result"
    },
    {
     "data": {
      "image/png": "[encoded data removed]",
      "text/plain": [
       "<matplotlib.figure.Figure at 0x102b8f60>"
      ]
     },
     "metadata": {},
     "output_type": "display_data"
    }
   ],
   "source": [
    "xi, yi = sample_spherical(200, 2)\n",
    "\n",
    "points=zip(xi, yi)\n",
    "X=np.array(points)\n",
    "\n",
    "fig, ax = plt.subplots(1, 1)\n",
    "fig.set_size_inches(6,6)\n",
    "ax.scatter(xi, yi, s=100, c='k', zorder=10)"
   ]
  },
  {
   "cell_type": "markdown",
   "metadata": {},
   "source": [
    "Lets use kmapper to perform the first step of the mapper algorithm on this dataset - appllying a filter function or lens to the data to map it to real numbers. To make a simple illustration this lens will simply be a projection onto the x-axis"
   ]
  },
  {
   "cell_type": "code",
   "execution_count": 4,
   "metadata": {},
   "outputs": [
    {
     "data": {
      "text/plain": [
       "(array([42., 11., 20., 10., 11., 14.,  8., 18., 24., 42.]),\n",
       " array([-9.99976485e-01, -7.99985606e-01, -5.99994727e-01, -4.00003848e-01,\n",
       "        -2.00012969e-01, -2.20896275e-05,  1.99968789e-01,  3.99959668e-01,\n",
       "         5.99950547e-01,  7.99941426e-01,  9.99932305e-01]),\n",
       " <a list of 10 Patch objects>)"
      ]
     },
     "execution_count": 4,
     "metadata": {},
     "output_type": "execute_result"
    },
    {
     "data": {
      "image/png": "[encoded data removed]",
      "text/plain": [
       "<matplotlib.figure.Figure at 0x102b8b38>"
      ]
     },
     "metadata": {},
     "output_type": "display_data"
    }
   ],
   "source": [
    "mapper = km.KeplerMapper(verbose=0)\n",
    "lens = mapper.fit_transform(X, projection=[0], scaler=None)\n",
    "\n",
    "plt.hist(lens)"
   ]
  },
  {
   "cell_type": "markdown",
   "metadata": {},
   "source": [
    "The histogram above is to help show what will happen in the next stage. The output is bucketed and the preimage of each bucket forms the basis for the cell complex construction.\n",
    "\n",
    "This is performed by the map function - we'll split the output into 10 cubes but with an overlap of 80% to ensure we'll get enough links."
   ]
  },
  {
   "cell_type": "code",
   "execution_count": 5,
   "metadata": {
    "collapsed": true
   },
   "outputs": [],
   "source": [
    "graph = mapper.map(lens, X, nr_cubes=10, overlap_perc=0.8)"
   ]
  },
  {
   "cell_type": "code",
   "execution_count": 6,
   "metadata": {},
   "outputs": [
    {
     "data": {
      "text/plain": [
       "['cube2_cluster0',\n",
       " 'cube2_cluster1',\n",
       " 'cube7_cluster1',\n",
       " 'cube5_cluster1',\n",
       " 'cube5_cluster0',\n",
       " 'cube0_cluster0',\n",
       " 'cube7_cluster0',\n",
       " 'cube4_cluster0',\n",
       " 'cube4_cluster1',\n",
       " 'cube8_cluster0',\n",
       " 'cube8_cluster1',\n",
       " 'cube1_cluster1',\n",
       " 'cube1_cluster0',\n",
       " 'cube3_cluster1',\n",
       " 'cube3_cluster0',\n",
       " 'cube6_cluster0',\n",
       " 'cube6_cluster1',\n",
       " 'cube9_cluster0']"
      ]
     },
     "execution_count": 6,
     "metadata": {},
     "output_type": "execute_result"
    }
   ],
   "source": [
    "graph['nodes'].keys()"
   ]
  },
  {
   "cell_type": "markdown",
   "metadata": {},
   "source": [
    "The list of clusters above are the 0 simplices for the cell complex that has been built onto the input dataset by the mapper algorithm. Lets take a closer look at some of these clusters to see what points have been added to them.\n",
    "\n",
    "The naming convention is useful and gives an indication of what we might expect. Remember the lens was simply projecting onto the x axis so the range is -1 to 1. This interval has been broken into 10 even cubes (albeit with an 80% overlap). So cubes 0 and 9 would be the left and rightmost ones respectively. Notice that these are the only 2 which only have a single cluster associated. For the rest we have 2, which corresponds to the fact that if you take a slice at a particular x value there'll be 2 points on the circle returned"
   ]
  },
  {
   "cell_type": "code",
   "execution_count": 7,
   "metadata": {},
   "outputs": [
    {
     "data": {
      "text/plain": [
       "<matplotlib.collections.PathCollection at 0x136047f0>"
      ]
     },
     "execution_count": 7,
     "metadata": {},
     "output_type": "execute_result"
    },
    {
     "data": {
      "image/png": "[encoded data removed]",
      "text/plain": [
       "<matplotlib.figure.Figure at 0x1325b128>"
      ]
     },
     "metadata": {},
     "output_type": "display_data"
    }
   ],
   "source": [
    "# Subset on the points within a selection of clusters\n",
    "c0_0=[X[i] for i in graph['nodes']['cube0_cluster0']]\n",
    "c1_0=[X[i] for i in graph['nodes']['cube1_cluster0']]\n",
    "c1_1=[X[i] for i in graph['nodes']['cube1_cluster1']]\n",
    "c2_0=[X[i] for i in graph['nodes']['cube2_cluster0']]\n",
    "\n",
    "# Plot each of these groups\n",
    "fig, axes = plt.subplots(2, 2, sharex=True, sharey=True)\n",
    "fig.set_size_inches(6,6)\n",
    "for (m,n),sub in np.ndenumerate(axes):\n",
    "    sub.set_ylim((-1,1))\n",
    "    sub.set_xlim((-1,1))\n",
    "axes[0, 0].scatter([x[0] for x in c0_0], [x[1] for x in c0_0], c='k')\n",
    "axes[0, 1].scatter([x[0] for x in c1_0], [x[1] for x in c1_0], c='r')\n",
    "axes[1, 0].scatter([x[0] for x in c1_1], [x[1] for x in c1_1], c='g')\n",
    "axes[1, 1].scatter([x[0] for x in c2_0], [x[1] for x in c2_0], c='b')"
   ]
  },
  {
   "cell_type": "markdown",
   "metadata": {},
   "source": [
    "Finally we plot the nerve that is produced using graphviz to show that the original shape is returned\n",
    "\n",
    "Kepler Mapper has it's own plotting tools to produce html output with d3. The map function that we called above also gives back the nodes and edges of the graph in a dictionary, which is pretty nice because we can then pass them into other plotting tools. We're using graphviz so that we can embed the output within the notebook"
   ]
  },
  {
   "cell_type": "code",
   "execution_count": 8,
   "metadata": {},
   "outputs": [
    {
     "data": {
      "image/svg+xml": [
       "<?xml version=\"1.0\" encoding=\"UTF-8\" standalone=\"no\"?>\r\n",
       "<!DOCTYPE svg PUBLIC \"-//W3C//DTD SVG 1.1//EN\"\r\n",
       " \"http://www.w3.org/Graphics/SVG/1.1/DTD/svg11.dtd\">\r\n",
       "<!-- Generated by graphviz version 2.38.0 (20140413.2041)\r\n",
       " -->\r\n",
       "<!-- Title: %3 Pages: 1 -->\r\n",
       "<svg width=\"355pt\" height=\"358pt\"\r\n",
       " viewBox=\"0.00 0.00 355.19 358.23\" xmlns=\"http://www.w3.org/2000/svg\" xmlns:xlink=\"http://www.w3.org/1999/xlink\">\r\n",
       "<g id=\"graph0\" class=\"graph\" transform=\"scale(1 1) rotate(0) translate(177.535 179.277)\">\r\n",
       "<title>%3</title>\r\n",
       "<polygon fill=\"white\" stroke=\"none\" points=\"-177.535,178.956 -177.535,-179.277 177.654,-179.277 177.654,178.956 -177.535,178.956\"/>\r\n",
       "<!-- 2_0 -->\r\n",
       "<g id=\"node1\" class=\"node\"><title>2_0</title>\r\n",
       "<ellipse fill=\"#3c4e8a\" stroke=\"black\" cx=\"162.654\" cy=\"-20.5842\" rx=\"11\" ry=\"11\"/>\r\n",
       "<text text-anchor=\"middle\" x=\"162.654\" y=\"-18.3842\" font-family=\"Times New Roman,serif\" font-size=\"9.00\" fill=\"white\">2_0</text>\r\n",
       "</g>\r\n",
       "<!-- 1_0 -->\r\n",
       "<g id=\"node2\" class=\"node\"><title>1_0</title>\r\n",
       "<ellipse fill=\"#404487\" stroke=\"black\" cx=\"145.859\" cy=\"-75.0876\" rx=\"11\" ry=\"11\"/>\r\n",
       "<text text-anchor=\"middle\" x=\"145.859\" y=\"-72.8876\" font-family=\"Times New Roman,serif\" font-size=\"9.00\" fill=\"white\">1_0</text>\r\n",
       "</g>\r\n",
       "<!-- 2_0&#45;&#45;1_0 -->\r\n",
       "<g id=\"edge1\" class=\"edge\"><title>2_0&#45;&#45;1_0</title>\r\n",
       "<path fill=\"none\" stroke=\"black\" d=\"M159.336,-31.3523C156.392,-40.9075 152.113,-54.7934 149.17,-64.3418\"/>\r\n",
       "</g>\r\n",
       "<!-- 3_1 -->\r\n",
       "<g id=\"node3\" class=\"node\"><title>3_1</title>\r\n",
       "<ellipse fill=\"#277d8e\" stroke=\"black\" cx=\"160.217\" cy=\"36.4237\" rx=\"11\" ry=\"11\"/>\r\n",
       "<text text-anchor=\"middle\" x=\"160.217\" y=\"38.6237\" font-family=\"Times New Roman,serif\" font-size=\"9.00\" fill=\"white\">3_1</text>\r\n",
       "</g>\r\n",
       "<!-- 2_0&#45;&#45;3_1 -->\r\n",
       "<g id=\"edge2\" class=\"edge\"><title>2_0&#45;&#45;3_1</title>\r\n",
       "<path fill=\"none\" stroke=\"black\" d=\"M162.184,-9.59249C161.758,0.37289 161.133,15.0009 160.702,25.0756\"/>\r\n",
       "</g>\r\n",
       "<!-- 2_1 -->\r\n",
       "<g id=\"node4\" class=\"node\"><title>2_1</title>\r\n",
       "<ellipse fill=\"#37598c\" stroke=\"black\" cx=\"7.97386\" cy=\"-164.277\" rx=\"11\" ry=\"11\"/>\r\n",
       "<text text-anchor=\"middle\" x=\"7.97386\" y=\"-162.077\" font-family=\"Times New Roman,serif\" font-size=\"9.00\" fill=\"white\">2_1</text>\r\n",
       "</g>\r\n",
       "<!-- 1_1 -->\r\n",
       "<g id=\"node5\" class=\"node\"><title>1_1</title>\r\n",
       "<ellipse fill=\"#404387\" stroke=\"black\" cx=\"63.6386\" cy=\"-151.674\" rx=\"11\" ry=\"11\"/>\r\n",
       "<text text-anchor=\"middle\" x=\"63.6386\" y=\"-149.474\" font-family=\"Times New Roman,serif\" font-size=\"9.00\" fill=\"white\">1_1</text>\r\n",
       "</g>\r\n",
       "<!-- 2_1&#45;&#45;1_1 -->\r\n",
       "<g id=\"edge3\" class=\"edge\"><title>2_1&#45;&#45;1_1</title>\r\n",
       "<path fill=\"none\" stroke=\"black\" d=\"M18.7066,-161.847C28.4372,-159.644 42.7205,-156.41 52.5578,-154.183\"/>\r\n",
       "</g>\r\n",
       "<!-- 3_0 -->\r\n",
       "<g id=\"node6\" class=\"node\"><title>3_0</title>\r\n",
       "<ellipse fill=\"#2a778e\" stroke=\"black\" cx=\"-48.6581\" cy=\"-157.138\" rx=\"11\" ry=\"11\"/>\r\n",
       "<text text-anchor=\"middle\" x=\"-48.6581\" y=\"-154.938\" font-family=\"Times New Roman,serif\" font-size=\"9.00\" fill=\"white\">3_0</text>\r\n",
       "</g>\r\n",
       "<!-- 2_1&#45;&#45;3_0 -->\r\n",
       "<g id=\"edge4\" class=\"edge\"><title>2_1&#45;&#45;3_0</title>\r\n",
       "<path fill=\"none\" stroke=\"black\" d=\"M-2.94536,-162.9C-12.845,-161.652 -27.3766,-159.82 -37.3848,-158.559\"/>\r\n",
       "</g>\r\n",
       "<!-- 7_1 -->\r\n",
       "<g id=\"node7\" class=\"node\"><title>7_1</title>\r\n",
       "<ellipse fill=\"#6bcd59\" stroke=\"black\" cx=\"-162.535\" cy=\"20.5831\" rx=\"11\" ry=\"11\"/>\r\n",
       "<text text-anchor=\"middle\" x=\"-162.535\" y=\"22.7831\" font-family=\"Times New Roman,serif\" font-size=\"9.00\" fill=\"white\">7_1</text>\r\n",
       "</g>\r\n",
       "<!-- 8_1 -->\r\n",
       "<g id=\"node8\" class=\"node\"><title>8_1</title>\r\n",
       "<ellipse fill=\"#c5df21\" stroke=\"black\" cx=\"-145.985\" cy=\"75.1587\" rx=\"11\" ry=\"11\"/>\r\n",
       "<text text-anchor=\"middle\" x=\"-145.985\" y=\"77.3587\" font-family=\"Times New Roman,serif\" font-size=\"9.00\" fill=\"white\">8_1</text>\r\n",
       "</g>\r\n",
       "<!-- 7_1&#45;&#45;8_1 -->\r\n",
       "<g id=\"edge5\" class=\"edge\"><title>7_1&#45;&#45;8_1</title>\r\n",
       "<path fill=\"none\" stroke=\"black\" d=\"M-159.266,31.3655C-156.364,40.9333 -152.148,54.8376 -149.248,64.3987\"/>\r\n",
       "</g>\r\n",
       "<!-- 6_0 -->\r\n",
       "<g id=\"node9\" class=\"node\"><title>6_0</title>\r\n",
       "<ellipse fill=\"#49c16d\" stroke=\"black\" cx=\"-160.198\" cy=\"-36.4145\" rx=\"11\" ry=\"11\"/>\r\n",
       "<text text-anchor=\"middle\" x=\"-160.198\" y=\"-34.2145\" font-family=\"Times New Roman,serif\" font-size=\"9.00\" fill=\"white\">6_0</text>\r\n",
       "</g>\r\n",
       "<!-- 7_1&#45;&#45;6_0 -->\r\n",
       "<g id=\"edge6\" class=\"edge\"><title>7_1&#45;&#45;6_0</title>\r\n",
       "<path fill=\"none\" stroke=\"black\" d=\"M-162.074,9.32223C-161.664,-0.670239 -161.069,-15.1916 -160.659,-25.177\"/>\r\n",
       "</g>\r\n",
       "<!-- 9_0 -->\r\n",
       "<g id=\"node18\" class=\"node\"><title>9_0</title>\r\n",
       "<ellipse fill=\"#e9e419\" stroke=\"black\" cx=\"-111.721\" cy=\"120.828\" rx=\"11\" ry=\"11\"/>\r\n",
       "<text text-anchor=\"middle\" x=\"-111.721\" y=\"123.028\" font-family=\"Times New Roman,serif\" font-size=\"9.00\" fill=\"white\">9_0</text>\r\n",
       "</g>\r\n",
       "<!-- 8_1&#45;&#45;9_0 -->\r\n",
       "<g id=\"edge18\" class=\"edge\"><title>8_1&#45;&#45;9_0</title>\r\n",
       "<path fill=\"none\" stroke=\"black\" d=\"M-139.379,83.9641C-133.389,91.9473 -124.597,103.666 -118.542,111.737\"/>\r\n",
       "</g>\r\n",
       "<!-- 5_1 -->\r\n",
       "<g id=\"node10\" class=\"node\"><title>5_1</title>\r\n",
       "<ellipse fill=\"#1fa386\" stroke=\"black\" cx=\"99.4162\" cy=\"130.993\" rx=\"11\" ry=\"11\"/>\r\n",
       "<text text-anchor=\"middle\" x=\"99.4162\" y=\"133.193\" font-family=\"Times New Roman,serif\" font-size=\"9.00\" fill=\"white\">5_1</text>\r\n",
       "</g>\r\n",
       "<!-- 4_1 -->\r\n",
       "<g id=\"node11\" class=\"node\"><title>4_1</title>\r\n",
       "<ellipse fill=\"#20908c\" stroke=\"black\" cx=\"138.169\" cy=\"89.0852\" rx=\"11\" ry=\"11\"/>\r\n",
       "<text text-anchor=\"middle\" x=\"138.169\" y=\"91.2852\" font-family=\"Times New Roman,serif\" font-size=\"9.00\" fill=\"white\">4_1</text>\r\n",
       "</g>\r\n",
       "<!-- 5_1&#45;&#45;4_1 -->\r\n",
       "<g id=\"edge7\" class=\"edge\"><title>5_1&#45;&#45;4_1</title>\r\n",
       "<path fill=\"none\" stroke=\"black\" d=\"M106.888,122.912C113.663,115.587 123.606,104.833 130.455,97.4274\"/>\r\n",
       "</g>\r\n",
       "<!-- 6_1 -->\r\n",
       "<g id=\"node12\" class=\"node\"><title>6_1</title>\r\n",
       "<ellipse fill=\"#42be71\" stroke=\"black\" cx=\"48.7023\" cy=\"157.222\" rx=\"11\" ry=\"11\"/>\r\n",
       "<text text-anchor=\"middle\" x=\"48.7023\" y=\"159.422\" font-family=\"Times New Roman,serif\" font-size=\"9.00\" fill=\"white\">6_1</text>\r\n",
       "</g>\r\n",
       "<!-- 5_1&#45;&#45;6_1 -->\r\n",
       "<g id=\"edge8\" class=\"edge\"><title>5_1&#45;&#45;6_1</title>\r\n",
       "<path fill=\"none\" stroke=\"black\" d=\"M89.6381,136.05C80.7729,140.635 67.7599,147.366 58.7976,152.001\"/>\r\n",
       "</g>\r\n",
       "<!-- 4_1&#45;&#45;3_1 -->\r\n",
       "<g id=\"edge16\" class=\"edge\"><title>4_1&#45;&#45;3_1</title>\r\n",
       "<path fill=\"none\" stroke=\"black\" d=\"M142.42,78.9315C146.274,69.7259 151.931,56.2132 155.828,46.9066\"/>\r\n",
       "</g>\r\n",
       "<!-- 5_0 -->\r\n",
       "<g id=\"node13\" class=\"node\"><title>5_0</title>\r\n",
       "<ellipse fill=\"#1e9c89\" stroke=\"black\" cx=\"-138.198\" cy=\"-89.104\" rx=\"11\" ry=\"11\"/>\r\n",
       "<text text-anchor=\"middle\" x=\"-138.198\" y=\"-86.904\" font-family=\"Times New Roman,serif\" font-size=\"9.00\" fill=\"white\">5_0</text>\r\n",
       "</g>\r\n",
       "<!-- 5_0&#45;&#45;6_0 -->\r\n",
       "<g id=\"edge10\" class=\"edge\"><title>5_0&#45;&#45;6_0</title>\r\n",
       "<path fill=\"none\" stroke=\"black\" d=\"M-142.44,-78.9449C-146.286,-69.7344 -151.931,-56.2145 -155.819,-46.903\"/>\r\n",
       "</g>\r\n",
       "<!-- 4_0 -->\r\n",
       "<g id=\"node14\" class=\"node\"><title>4_0</title>\r\n",
       "<ellipse fill=\"#218c8d\" stroke=\"black\" cx=\"-99.3482\" cy=\"-130.922\" rx=\"11\" ry=\"11\"/>\r\n",
       "<text text-anchor=\"middle\" x=\"-99.3482\" y=\"-128.722\" font-family=\"Times New Roman,serif\" font-size=\"9.00\" fill=\"white\">4_0</text>\r\n",
       "</g>\r\n",
       "<!-- 5_0&#45;&#45;4_0 -->\r\n",
       "<g id=\"edge9\" class=\"edge\"><title>5_0&#45;&#45;4_0</title>\r\n",
       "<path fill=\"none\" stroke=\"black\" d=\"M-130.708,-97.1668C-123.916,-104.477 -113.948,-115.207 -107.082,-122.597\"/>\r\n",
       "</g>\r\n",
       "<!-- 4_0&#45;&#45;3_0 -->\r\n",
       "<g id=\"edge15\" class=\"edge\"><title>4_0&#45;&#45;3_0</title>\r\n",
       "<path fill=\"none\" stroke=\"black\" d=\"M-89.5747,-135.976C-80.7137,-140.559 -67.7068,-147.286 -58.7486,-151.919\"/>\r\n",
       "</g>\r\n",
       "<!-- 0_0 -->\r\n",
       "<g id=\"node15\" class=\"node\"><title>0_0</title>\r\n",
       "<ellipse fill=\"#471265\" stroke=\"black\" cx=\"111.661\" cy=\"-120.78\" rx=\"11\" ry=\"11\"/>\r\n",
       "<text text-anchor=\"middle\" x=\"111.661\" y=\"-118.58\" font-family=\"Times New Roman,serif\" font-size=\"9.00\" fill=\"white\">0_0</text>\r\n",
       "</g>\r\n",
       "<!-- 0_0&#45;&#45;1_0 -->\r\n",
       "<g id=\"edge12\" class=\"edge\"><title>0_0&#45;&#45;1_0</title>\r\n",
       "<path fill=\"none\" stroke=\"black\" d=\"M118.254,-111.97C124.233,-103.983 133.008,-92.2581 139.052,-84.1832\"/>\r\n",
       "</g>\r\n",
       "<!-- 0_0&#45;&#45;1_1 -->\r\n",
       "<g id=\"edge11\" class=\"edge\"><title>0_0&#45;&#45;1_1</title>\r\n",
       "<path fill=\"none\" stroke=\"black\" d=\"M102.402,-126.737C94.0069,-132.137 81.6846,-140.064 73.198,-145.524\"/>\r\n",
       "</g>\r\n",
       "<!-- 7_0 -->\r\n",
       "<g id=\"node16\" class=\"node\"><title>7_0</title>\r\n",
       "<ellipse fill=\"#88d547\" stroke=\"black\" cx=\"-7.95926\" cy=\"163.956\" rx=\"11\" ry=\"11\"/>\r\n",
       "<text text-anchor=\"middle\" x=\"-7.95926\" y=\"166.156\" font-family=\"Times New Roman,serif\" font-size=\"9.00\" fill=\"white\">7_0</text>\r\n",
       "</g>\r\n",
       "<!-- 7_0&#45;&#45;6_1 -->\r\n",
       "<g id=\"edge14\" class=\"edge\"><title>7_0&#45;&#45;6_1</title>\r\n",
       "<path fill=\"none\" stroke=\"black\" d=\"M2.96566,162.658C12.8705,161.481 27.4096,159.753 37.4231,158.563\"/>\r\n",
       "</g>\r\n",
       "<!-- 8_0 -->\r\n",
       "<g id=\"node17\" class=\"node\"><title>8_0</title>\r\n",
       "<ellipse fill=\"#b5dd2b\" stroke=\"black\" cx=\"-63.687\" cy=\"151.731\" rx=\"11\" ry=\"11\"/>\r\n",
       "<text text-anchor=\"middle\" x=\"-63.687\" y=\"153.931\" font-family=\"Times New Roman,serif\" font-size=\"9.00\" fill=\"white\">8_0</text>\r\n",
       "</g>\r\n",
       "<!-- 7_0&#45;&#45;8_0 -->\r\n",
       "<g id=\"edge13\" class=\"edge\"><title>7_0&#45;&#45;8_0</title>\r\n",
       "<path fill=\"none\" stroke=\"black\" d=\"M-18.7041,161.599C-28.4457,159.462 -42.7453,156.325 -52.5937,154.164\"/>\r\n",
       "</g>\r\n",
       "<!-- 8_0&#45;&#45;9_0 -->\r\n",
       "<g id=\"edge17\" class=\"edge\"><title>8_0&#45;&#45;9_0</title>\r\n",
       "<path fill=\"none\" stroke=\"black\" d=\"M-72.9484,145.772C-81.3451,140.37 -93.6703,132.441 -102.159,126.979\"/>\r\n",
       "</g>\r\n",
       "</g>\r\n",
       "</svg>\r\n"
      ],
      "text/plain": [
       "<graphviz.dot.Graph at 0x13161a90>"
      ]
     },
     "execution_count": 8,
     "metadata": {},
     "output_type": "execute_result"
    }
   ],
   "source": [
    "network=gz.Graph()\n",
    "network.attr(layout='neato')\n",
    "network.attr('edge', len='0.7')\n",
    "network.attr('node', shape='circle', fixedsize='true', width='0.3', \\\n",
    "             label=None, fontsize='9', style='filled', fontcolor='white')\n",
    "\n",
    "for node in graph['links']:\n",
    "    for nbr in graph['links'][node]:\n",
    "        # We'll remove the 'cube' and 'cluster' strings from the label to avoid clutter\n",
    "        node=str.replace(str.replace(node,'cube',''),'cluster','')\n",
    "        nbr=str.replace(str.replace(nbr,'cube',''),'cluster','')\n",
    "        network.edge(node, nbr)\n",
    "        \n",
    "# Colour the nodes based on the average x value of points in the cluster\n",
    "norm = colors.Normalize(vmin = -1, vmax = 1)\n",
    "clrmap=cm.ScalarMappable(norm = norm, cmap = cm.viridis)\n",
    "\n",
    "for node in graph['nodes']:\n",
    "    avg_x=np.average([X[i][0] for i in graph['nodes'][node]])\n",
    "    color=clrmap.to_rgba(avg_x)\n",
    "    color=colorsys.rgb_to_hsv(color[0], color[1], color[2])\n",
    "    node=str.replace(str.replace(node,'cube',''),'cluster','')\n",
    "    network.node(node, fillcolor=\"%f, %f, %f\" % (color[0], color[1], color[2]))\n",
    "    \n",
    "# Display the graph\n",
    "network"
   ]
  },
  {
   "cell_type": "markdown",
   "metadata": {},
   "source": [
    "So we can see that mapper has returned a cicle for us and that points in cluster 0_0 have the lowest x values while cluster 9_0 has the highest.\n",
    "\n",
    "For reference and comparison, here's what the keppler mapper output looks like"
   ]
  },
  {
   "cell_type": "code",
   "execution_count": 9,
   "metadata": {
    "collapsed": true
   },
   "outputs": [],
   "source": [
    "%%capture\n",
    "mapper.visualize(graph, path_html=\"circle_example_1.html\",\n",
    "                 title=\"Basic circle\")"
   ]
  },
  {
   "cell_type": "markdown",
   "metadata": {},
   "source": [
    "<img src='https://raw.githubusercontent.com/noelano/TDA/master/kmapper_circles_output.PNG' width='70%'>"
   ]
  }
 ],
 "metadata": {
  "kernelspec": {
   "display_name": "Python 3",
   "language": "python",
   "name": "python3"
  },
  "language_info": {
   "codemirror_mode": {
    "name": "ipython",
    "version": 3
   },
   "file_extension": ".py",
   "mimetype": "text/x-python",
   "name": "python",
   "nbconvert_exporter": "python",
   "pygments_lexer": "ipython3",
   "version": "3.6.4"
  }
 },
 "nbformat": 4,
 "nbformat_minor": 2
}
