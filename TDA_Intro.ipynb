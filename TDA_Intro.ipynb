{
 "cells": [
  {
   "cell_type": "markdown",
   "metadata": {},
   "source": [
    "# TDA Introduction"
   ]
  },
  {
   "cell_type": "markdown",
   "metadata": {},
   "source": [
    "This notebook will serve as an introduction to concepts and techniques in topological data analysis. Hopefully this can be achieved through a mix of some high level on the theory parts and practical code examples with some toy datasets.\n",
    "For the code parts we'll use __[keppler mapper](https://github.com/MLWave/kepler-mapper)__ for the mapper applications with some graphviz for showing simple example plots.\n",
    "On the theory side we'll pull from a few places. First stop will be Hatchers __[point set topology notes](https://www.math.cornell.edu/~hatcher/Top/TopNotes.pdf)__ but we'll also use Robert Ghrists *Elementary Applied Topology*\n"
   ]
  },
  {
   "cell_type": "markdown",
   "metadata": {},
   "source": [
    "## Some Topology"
   ]
  },
  {
   "cell_type": "markdown",
   "metadata": {},
   "source": [
    "From a pure maths point of view topology is a study of open sets. The more inuitive line of thinking is that it's a sort of squishy geometry - it's concerned with the shape of spaces but you're allowed to stretch and pull and bend while still considering the results to be essentially the same.\n",
    "\n",
    "Topology looks at shape through the language of open sets. In fact a *topology* on a set $X$ is a collection $O$ of open sets of $X$ satisfying closure under unions and intersections and with both $\\emptyset$ and $X$ contained in $O$.\n",
    "\n",
    "Continuous maps between topological spaces map open sets to open sets. If a space $X$ can be continuously deformed into a space $Y$ then they're *homeomorphic* and equivalent from a topological point of view.\n",
    "The typical example used here is that of a mug being the same as a donut (torus)."
   ]
  },
  {
   "cell_type": "markdown",
   "metadata": {},
   "source": [
    "### Point Clouds and cell complexes"
   ]
  },
  {
   "cell_type": "markdown",
   "metadata": {},
   "source": [
    "TODO"
   ]
  },
  {
   "cell_type": "markdown",
   "metadata": {},
   "source": [
    "### Mapper algorithm in python"
   ]
  },
  {
   "cell_type": "code",
   "execution_count": 33,
   "metadata": {},
   "outputs": [],
   "source": [
    "import numpy as np\n",
    "from matplotlib import pyplot as plt\n",
    "from mpl_toolkits.mplot3d import axes3d\n",
    "import kmapper as km\n",
    "import graphviz as gz\n",
    "import itertools\n",
    "\n",
    "%matplotlib inline"
   ]
  },
  {
   "cell_type": "markdown",
   "metadata": {},
   "source": [
    "As a toy example lets randomly sample a handful of points from a sphere and use these as the input to mapper to get a feel for how the algorithm works"
   ]
  },
  {
   "cell_type": "code",
   "execution_count": 3,
   "metadata": {
    "collapsed": true
   },
   "outputs": [],
   "source": [
    "# Function to randomly pick from an n-sphere\n",
    "\n",
    "def sample_spherical(npoints, ndim=3):\n",
    "    vec = np.random.randn(ndim, npoints)\n",
    "    vec /= np.linalg.norm(vec, axis=0)\n",
    "    return vec"
   ]
  },
  {
   "cell_type": "code",
   "execution_count": 55,
   "metadata": {},
   "outputs": [
    {
     "data": {
      "text/plain": [
       "<matplotlib.collections.PathCollection at 0x14515128>"
      ]
     },
     "execution_count": 55,
     "metadata": {},
     "output_type": "execute_result"
    },
    {
     "data": {
      "image/png": "[encoded data removed]",
      "text/plain": [
       "<matplotlib.figure.Figure at 0x14269278>"
      ]
     },
     "metadata": {},
     "output_type": "display_data"
    }
   ],
   "source": [
    "\"\"\"\n",
    "phi = np.linspace(0, np.pi, 20)\n",
    "theta = np.linspace(0, 2 * np.pi, 40)\n",
    "x = np.outer(np.sin(theta), np.cos(phi))\n",
    "y = np.outer(np.sin(theta), np.sin(phi))\n",
    "z = np.outer(np.cos(theta), np.ones_like(phi))\n",
    "\"\"\"\n",
    "xi, yi = sample_spherical(200, 2)\n",
    "\n",
    "points=zip(xi, yi)\n",
    "X=np.array(points)\n",
    "\n",
    "#fig, ax = plt.subplots(1, 1, subplot_kw={'projection':'3d', 'aspect':'equal'})\n",
    "fig, ax = plt.subplots(1, 1)\n",
    "fig.set_size_inches(8,8)\n",
    "#ax.plot_wireframe(x, y, z, color='k', rstride=1, cstride=1)\n",
    "ax.scatter(xi, yi, s=100, c='k', zorder=10)"
   ]
  },
  {
   "cell_type": "markdown",
   "metadata": {},
   "source": [
    "Lets use kmapper to perform the first step of the mapper algorithm on this dataset - appllying a filter function or lens to the data to map it to real numbers. To make a simple illustration this lens will simply be a projection onto the x-axis"
   ]
  },
  {
   "cell_type": "code",
   "execution_count": 56,
   "metadata": {},
   "outputs": [
    {
     "data": {
      "text/plain": [
       "(array([33., 23., 14.,  8., 13., 14., 12., 14., 23., 46.]),\n",
       " array([-9.98620980e-01, -7.98785879e-01, -5.98950778e-01, -3.99115677e-01,\n",
       "        -1.99280576e-01,  5.54524871e-04,  2.00389626e-01,  4.00224727e-01,\n",
       "         6.00059828e-01,  7.99894929e-01,  9.99730030e-01]),\n",
       " <a list of 10 Patch objects>)"
      ]
     },
     "execution_count": 56,
     "metadata": {},
     "output_type": "execute_result"
    },
    {
     "data": {
      "image/png": "[encoded data removed]",
      "text/plain": [
       "<matplotlib.figure.Figure at 0x14710860>"
      ]
     },
     "metadata": {},
     "output_type": "display_data"
    }
   ],
   "source": [
    "mapper = km.KeplerMapper(verbose=0)\n",
    "lens = mapper.fit_transform(X, projection=[0], scaler=None)\n",
    "\n",
    "plt.hist(lens)"
   ]
  },
  {
   "cell_type": "markdown",
   "metadata": {},
   "source": [
    "The histogram above helps show what will happen in the next stage. The output is bucketed and the preimage of each bucket forms the basis for the cell complex construction.\n",
    "\n",
    "This is performed by the map function - we'll split the output into 10 cubes but with an overlap of 80% to ensure we'll get enough links."
   ]
  },
  {
   "cell_type": "code",
   "execution_count": 57,
   "metadata": {},
   "outputs": [],
   "source": [
    "graph = mapper.map(lens, X, nr_cubes=10, overlap_perc=0.8)"
   ]
  },
  {
   "cell_type": "code",
   "execution_count": 62,
   "metadata": {},
   "outputs": [
    {
     "data": {
      "text/plain": [
       "['cube2_cluster0',\n",
       " 'cube2_cluster1',\n",
       " 'cube7_cluster1',\n",
       " 'cube5_cluster1',\n",
       " 'cube5_cluster0',\n",
       " 'cube0_cluster0',\n",
       " 'cube7_cluster0',\n",
       " 'cube4_cluster0',\n",
       " 'cube4_cluster1',\n",
       " 'cube8_cluster0',\n",
       " 'cube8_cluster1',\n",
       " 'cube1_cluster1',\n",
       " 'cube1_cluster0',\n",
       " 'cube3_cluster1',\n",
       " 'cube3_cluster0',\n",
       " 'cube6_cluster0',\n",
       " 'cube6_cluster1',\n",
       " 'cube9_cluster0']"
      ]
     },
     "execution_count": 62,
     "metadata": {},
     "output_type": "execute_result"
    }
   ],
   "source": [
    "graph['nodes'].keys()"
   ]
  },
  {
   "cell_type": "markdown",
   "metadata": {},
   "source": [
    "The list of clusters above are the 0 simplices for the cell complex that has been built onto the input dataset by the mapper algorithm. Lets take a closer look at some of these clustes to see what points have been added to them.\n",
    "\n",
    "The naming convention is useful and gives an indication of what we might expect. Remember the lens was simply projecting onto the x axis so the range is -1 to 1. This interval has been broken into 10 even cubes (albeit with an 80% overlap). So cubes 0 and 9 would be the left and rightmost ones respectively. Notice that these are the only 2 which only have a single cluster associated. For the rest we have 2, which corresponds to the fact that if you take a slice at a particular x value there'll be 2 points returned"
   ]
  },
  {
   "cell_type": "markdown",
   "metadata": {},
   "source": [
    "Finally we plot the nerve that is produced using graphviz to show the original shape that is returned"
   ]
  },
  {
   "cell_type": "code",
   "execution_count": 76,
   "metadata": {},
   "outputs": [
    {
     "data": {
      "image/svg+xml": [
       "<?xml version=\"1.0\" encoding=\"UTF-8\" standalone=\"no\"?>\r\n",
       "<!DOCTYPE svg PUBLIC \"-//W3C//DTD SVG 1.1//EN\"\r\n",
       " \"http://www.w3.org/Graphics/SVG/1.1/DTD/svg11.dtd\">\r\n",
       "<!-- Generated by graphviz version 2.38.0 (20140413.2041)\r\n",
       " -->\r\n",
       "<!-- Title: %3 Pages: 1 -->\r\n",
       "<svg width=\"486pt\" height=\"491pt\"\r\n",
       " viewBox=\"0.00 0.00 486.21 490.95\" xmlns=\"http://www.w3.org/2000/svg\" xmlns:xlink=\"http://www.w3.org/1999/xlink\">\r\n",
       "<g id=\"graph0\" class=\"graph\" transform=\"scale(1 1) rotate(0) translate(243.004 245.756)\">\r\n",
       "<title>%3</title>\r\n",
       "<polygon fill=\"white\" stroke=\"none\" points=\"-243.004,245.193 -243.004,-245.756 243.208,-245.756 243.208,245.193 -243.004,245.193\"/>\r\n",
       "<!-- cube2_cluster0 -->\r\n",
       "<g id=\"node1\" class=\"node\"><title>cube2_cluster0</title>\r\n",
       "<ellipse fill=\"none\" stroke=\"black\" cx=\"232.208\" cy=\"-29.3866\" rx=\"7\" ry=\"7\"/>\r\n",
       "<text text-anchor=\"middle\" x=\"232.208\" y=\"-25.6866\" font-family=\"Times New Roman,serif\" font-size=\"14.00\">cube2_cluster0</text>\r\n",
       "</g>\r\n",
       "<!-- cube1_cluster1 -->\r\n",
       "<g id=\"node2\" class=\"node\"><title>cube1_cluster1</title>\r\n",
       "<ellipse fill=\"none\" stroke=\"black\" cx=\"208.251\" cy=\"-107.243\" rx=\"7\" ry=\"7\"/>\r\n",
       "<text text-anchor=\"middle\" x=\"208.251\" y=\"-103.543\" font-family=\"Times New Roman,serif\" font-size=\"14.00\">cube1_cluster1</text>\r\n",
       "</g>\r\n",
       "<!-- cube2_cluster0&#45;&#45;cube1_cluster1 -->\r\n",
       "<g id=\"edge1\" class=\"edge\"><title>cube2_cluster0&#45;&#45;cube1_cluster1</title>\r\n",
       "<path fill=\"none\" stroke=\"black\" d=\"M230.082,-36.2958C225.547,-51.0332 214.968,-85.4145 210.407,-100.237\"/>\r\n",
       "</g>\r\n",
       "<!-- cube3_cluster0 -->\r\n",
       "<g id=\"node3\" class=\"node\"><title>cube3_cluster0</title>\r\n",
       "<ellipse fill=\"none\" stroke=\"black\" cx=\"228.848\" cy=\"52.0564\" rx=\"7\" ry=\"7\"/>\r\n",
       "<text text-anchor=\"middle\" x=\"228.848\" y=\"55.7564\" font-family=\"Times New Roman,serif\" font-size=\"14.00\">cube3_cluster0</text>\r\n",
       "</g>\r\n",
       "<!-- cube2_cluster0&#45;&#45;cube3_cluster0 -->\r\n",
       "<g id=\"edge2\" class=\"edge\"><title>cube2_cluster0&#45;&#45;cube3_cluster0</title>\r\n",
       "<path fill=\"none\" stroke=\"black\" d=\"M231.91,-22.1591C231.274,-6.7428 229.79,29.2226 229.15,44.728\"/>\r\n",
       "</g>\r\n",
       "<!-- cube2_cluster1 -->\r\n",
       "<g id=\"node4\" class=\"node\"><title>cube2_cluster1</title>\r\n",
       "<ellipse fill=\"none\" stroke=\"black\" cx=\"11.3866\" cy=\"-234.756\" rx=\"7\" ry=\"7\"/>\r\n",
       "<text text-anchor=\"middle\" x=\"11.3866\" y=\"-231.056\" font-family=\"Times New Roman,serif\" font-size=\"14.00\">cube2_cluster1</text>\r\n",
       "</g>\r\n",
       "<!-- cube1_cluster0 -->\r\n",
       "<g id=\"node5\" class=\"node\"><title>cube1_cluster0</title>\r\n",
       "<ellipse fill=\"none\" stroke=\"black\" cx=\"90.9103\" cy=\"-216.748\" rx=\"7\" ry=\"7\"/>\r\n",
       "<text text-anchor=\"middle\" x=\"90.9103\" y=\"-213.048\" font-family=\"Times New Roman,serif\" font-size=\"14.00\">cube1_cluster0</text>\r\n",
       "</g>\r\n",
       "<!-- cube2_cluster1&#45;&#45;cube1_cluster0 -->\r\n",
       "<g id=\"edge3\" class=\"edge\"><title>cube2_cluster1&#45;&#45;cube1_cluster0</title>\r\n",
       "<path fill=\"none\" stroke=\"black\" d=\"M18.4438,-233.158C33.4968,-229.749 68.6145,-221.797 83.7546,-218.368\"/>\r\n",
       "</g>\r\n",
       "<!-- cube3_cluster1 -->\r\n",
       "<g id=\"node6\" class=\"node\"><title>cube3_cluster1</title>\r\n",
       "<ellipse fill=\"none\" stroke=\"black\" cx=\"-69.5208\" cy=\"-224.566\" rx=\"7\" ry=\"7\"/>\r\n",
       "<text text-anchor=\"middle\" x=\"-69.5208\" y=\"-220.866\" font-family=\"Times New Roman,serif\" font-size=\"14.00\">cube3_cluster1</text>\r\n",
       "</g>\r\n",
       "<!-- cube2_cluster1&#45;&#45;cube3_cluster1 -->\r\n",
       "<g id=\"edge4\" class=\"edge\"><title>cube2_cluster1&#45;&#45;cube3_cluster1</title>\r\n",
       "<path fill=\"none\" stroke=\"black\" d=\"M4.20665,-233.852C-11.1083,-231.923 -46.8371,-227.423 -62.2406,-225.483\"/>\r\n",
       "</g>\r\n",
       "<!-- cube7_cluster1 -->\r\n",
       "<g id=\"node7\" class=\"node\"><title>cube7_cluster1</title>\r\n",
       "<ellipse fill=\"none\" stroke=\"black\" cx=\"-232.004\" cy=\"29.3869\" rx=\"7\" ry=\"7\"/>\r\n",
       "<text text-anchor=\"middle\" x=\"-232.004\" y=\"33.0869\" font-family=\"Times New Roman,serif\" font-size=\"14.00\">cube7_cluster1</text>\r\n",
       "</g>\r\n",
       "<!-- cube8_cluster0 -->\r\n",
       "<g id=\"node8\" class=\"node\"><title>cube8_cluster0</title>\r\n",
       "<ellipse fill=\"none\" stroke=\"black\" cx=\"-208.474\" cy=\"107.369\" rx=\"7\" ry=\"7\"/>\r\n",
       "<text text-anchor=\"middle\" x=\"-208.474\" y=\"111.069\" font-family=\"Times New Roman,serif\" font-size=\"14.00\">cube8_cluster0</text>\r\n",
       "</g>\r\n",
       "<!-- cube7_cluster1&#45;&#45;cube8_cluster0 -->\r\n",
       "<g id=\"edge5\" class=\"edge\"><title>cube7_cluster1&#45;&#45;cube8_cluster0</title>\r\n",
       "<path fill=\"none\" stroke=\"black\" d=\"M-229.916,36.3072C-225.462,51.0683 -215.071,85.5051 -210.592,100.352\"/>\r\n",
       "</g>\r\n",
       "<!-- cube6_cluster1 -->\r\n",
       "<g id=\"node9\" class=\"node\"><title>cube6_cluster1</title>\r\n",
       "<ellipse fill=\"none\" stroke=\"black\" cx=\"-228.806\" cy=\"-52.0344\" rx=\"7\" ry=\"7\"/>\r\n",
       "<text text-anchor=\"middle\" x=\"-228.806\" y=\"-48.3344\" font-family=\"Times New Roman,serif\" font-size=\"14.00\">cube6_cluster1</text>\r\n",
       "</g>\r\n",
       "<!-- cube7_cluster1&#45;&#45;cube6_cluster1 -->\r\n",
       "<g id=\"edge6\" class=\"edge\"><title>cube7_cluster1&#45;&#45;cube6_cluster1</title>\r\n",
       "<path fill=\"none\" stroke=\"black\" d=\"M-231.72,22.1613C-231.115,6.7491 -229.703,-29.2066 -229.094,-44.708\"/>\r\n",
       "</g>\r\n",
       "<!-- cube9_cluster0 -->\r\n",
       "<g id=\"node18\" class=\"node\"><title>cube9_cluster0</title>\r\n",
       "<ellipse fill=\"none\" stroke=\"black\" cx=\"-159.626\" cy=\"172.682\" rx=\"7\" ry=\"7\"/>\r\n",
       "<text text-anchor=\"middle\" x=\"-159.626\" y=\"176.382\" font-family=\"Times New Roman,serif\" font-size=\"14.00\">cube9_cluster0</text>\r\n",
       "</g>\r\n",
       "<!-- cube8_cluster0&#45;&#45;cube9_cluster0 -->\r\n",
       "<g id=\"edge17\" class=\"edge\"><title>cube8_cluster0&#45;&#45;cube9_cluster0</title>\r\n",
       "<path fill=\"none\" stroke=\"black\" d=\"M-203.966,113.396C-194.613,125.902 -173.204,154.528 -163.982,166.857\"/>\r\n",
       "</g>\r\n",
       "<!-- cube5_cluster1 -->\r\n",
       "<g id=\"node10\" class=\"node\"><title>cube5_cluster1</title>\r\n",
       "<ellipse fill=\"none\" stroke=\"black\" cx=\"142.023\" cy=\"187.172\" rx=\"7\" ry=\"7\"/>\r\n",
       "<text text-anchor=\"middle\" x=\"142.023\" y=\"190.872\" font-family=\"Times New Roman,serif\" font-size=\"14.00\">cube5_cluster1</text>\r\n",
       "</g>\r\n",
       "<!-- cube4_cluster1 -->\r\n",
       "<g id=\"node11\" class=\"node\"><title>cube4_cluster1</title>\r\n",
       "<ellipse fill=\"none\" stroke=\"black\" cx=\"197.387\" cy=\"127.311\" rx=\"7\" ry=\"7\"/>\r\n",
       "<text text-anchor=\"middle\" x=\"197.387\" y=\"131.011\" font-family=\"Times New Roman,serif\" font-size=\"14.00\">cube4_cluster1</text>\r\n",
       "</g>\r\n",
       "<!-- cube5_cluster1&#45;&#45;cube4_cluster1 -->\r\n",
       "<g id=\"edge7\" class=\"edge\"><title>cube5_cluster1&#45;&#45;cube4_cluster1</title>\r\n",
       "<path fill=\"none\" stroke=\"black\" d=\"M147.132,181.648C157.733,170.186 181.998,143.949 192.45,132.649\"/>\r\n",
       "</g>\r\n",
       "<!-- cube6_cluster0 -->\r\n",
       "<g id=\"node12\" class=\"node\"><title>cube6_cluster0</title>\r\n",
       "<ellipse fill=\"none\" stroke=\"black\" cx=\"69.597\" cy=\"224.717\" rx=\"7\" ry=\"7\"/>\r\n",
       "<text text-anchor=\"middle\" x=\"69.597\" y=\"228.417\" font-family=\"Times New Roman,serif\" font-size=\"14.00\">cube6_cluster0</text>\r\n",
       "</g>\r\n",
       "<!-- cube5_cluster1&#45;&#45;cube6_cluster0 -->\r\n",
       "<g id=\"edge8\" class=\"edge\"><title>cube5_cluster1&#45;&#45;cube6_cluster0</title>\r\n",
       "<path fill=\"none\" stroke=\"black\" d=\"M135.339,190.637C121.472,197.826 89.7281,214.281 76.0562,221.368\"/>\r\n",
       "</g>\r\n",
       "<!-- cube4_cluster1&#45;&#45;cube3_cluster0 -->\r\n",
       "<g id=\"edge16\" class=\"edge\"><title>cube4_cluster1&#45;&#45;cube3_cluster0</title>\r\n",
       "<path fill=\"none\" stroke=\"black\" d=\"M200.179,120.632C206.134,106.388 220.027,73.1552 226.017,58.828\"/>\r\n",
       "</g>\r\n",
       "<!-- cube5_cluster0 -->\r\n",
       "<g id=\"node13\" class=\"node\"><title>cube5_cluster0</title>\r\n",
       "<ellipse fill=\"none\" stroke=\"black\" cx=\"-197.436\" cy=\"-127.341\" rx=\"7\" ry=\"7\"/>\r\n",
       "<text text-anchor=\"middle\" x=\"-197.436\" y=\"-123.641\" font-family=\"Times New Roman,serif\" font-size=\"14.00\">cube5_cluster0</text>\r\n",
       "</g>\r\n",
       "<!-- cube5_cluster0&#45;&#45;cube6_cluster1 -->\r\n",
       "<g id=\"edge10\" class=\"edge\"><title>cube5_cluster0&#45;&#45;cube6_cluster1</title>\r\n",
       "<path fill=\"none\" stroke=\"black\" d=\"M-200.22,-120.658C-206.158,-106.404 -220.011,-73.1479 -225.983,-58.8107\"/>\r\n",
       "</g>\r\n",
       "<!-- cube4_cluster0 -->\r\n",
       "<g id=\"node14\" class=\"node\"><title>cube4_cluster0</title>\r\n",
       "<ellipse fill=\"none\" stroke=\"black\" cx=\"-141.907\" cy=\"-187.059\" rx=\"7\" ry=\"7\"/>\r\n",
       "<text text-anchor=\"middle\" x=\"-141.907\" y=\"-183.359\" font-family=\"Times New Roman,serif\" font-size=\"14.00\">cube4_cluster0</text>\r\n",
       "</g>\r\n",
       "<!-- cube5_cluster0&#45;&#45;cube4_cluster0 -->\r\n",
       "<g id=\"edge9\" class=\"edge\"><title>cube5_cluster0&#45;&#45;cube4_cluster0</title>\r\n",
       "<path fill=\"none\" stroke=\"black\" d=\"M-192.311,-132.852C-181.679,-144.287 -157.342,-170.46 -146.86,-181.734\"/>\r\n",
       "</g>\r\n",
       "<!-- cube4_cluster0&#45;&#45;cube3_cluster1 -->\r\n",
       "<g id=\"edge15\" class=\"edge\"><title>cube4_cluster0&#45;&#45;cube3_cluster1</title>\r\n",
       "<path fill=\"none\" stroke=\"black\" d=\"M-135.227,-190.521C-121.367,-197.702 -89.641,-214.141 -75.9765,-221.221\"/>\r\n",
       "</g>\r\n",
       "<!-- cube0_cluster0 -->\r\n",
       "<g id=\"node15\" class=\"node\"><title>cube0_cluster0</title>\r\n",
       "<ellipse fill=\"none\" stroke=\"black\" cx=\"159.52\" cy=\"-172.605\" rx=\"7\" ry=\"7\"/>\r\n",
       "<text text-anchor=\"middle\" x=\"159.52\" y=\"-168.905\" font-family=\"Times New Roman,serif\" font-size=\"14.00\">cube0_cluster0</text>\r\n",
       "</g>\r\n",
       "<!-- cube0_cluster0&#45;&#45;cube1_cluster1 -->\r\n",
       "<g id=\"edge11\" class=\"edge\"><title>cube0_cluster0&#45;&#45;cube1_cluster1</title>\r\n",
       "<path fill=\"none\" stroke=\"black\" d=\"M164.017,-166.573C173.347,-154.058 194.706,-125.411 203.905,-113.072\"/>\r\n",
       "</g>\r\n",
       "<!-- cube0_cluster0&#45;&#45;cube1_cluster0 -->\r\n",
       "<g id=\"edge12\" class=\"edge\"><title>cube0_cluster0&#45;&#45;cube1_cluster0</title>\r\n",
       "<path fill=\"none\" stroke=\"black\" d=\"M153.188,-176.679C140.051,-185.131 109.981,-204.478 97.0291,-212.811\"/>\r\n",
       "</g>\r\n",
       "<!-- cube7_cluster0 -->\r\n",
       "<g id=\"node16\" class=\"node\"><title>cube7_cluster0</title>\r\n",
       "<ellipse fill=\"none\" stroke=\"black\" cx=\"-11.3611\" cy=\"234.193\" rx=\"7\" ry=\"7\"/>\r\n",
       "<text text-anchor=\"middle\" x=\"-11.3611\" y=\"237.893\" font-family=\"Times New Roman,serif\" font-size=\"14.00\">cube7_cluster0</text>\r\n",
       "</g>\r\n",
       "<!-- cube7_cluster0&#45;&#45;cube6_cluster0 -->\r\n",
       "<g id=\"edge14\" class=\"edge\"><title>cube7_cluster0&#45;&#45;cube6_cluster0</title>\r\n",
       "<path fill=\"none\" stroke=\"black\" d=\"M-4.17664,233.352C11.1479,231.558 46.8991,227.373 62.3123,225.569\"/>\r\n",
       "</g>\r\n",
       "<!-- cube8_cluster1 -->\r\n",
       "<g id=\"node17\" class=\"node\"><title>cube8_cluster1</title>\r\n",
       "<ellipse fill=\"none\" stroke=\"black\" cx=\"-90.9944\" cy=\"216.853\" rx=\"7\" ry=\"7\"/>\r\n",
       "<text text-anchor=\"middle\" x=\"-90.9944\" y=\"220.553\" font-family=\"Times New Roman,serif\" font-size=\"14.00\">cube8_cluster1</text>\r\n",
       "</g>\r\n",
       "<!-- cube7_cluster0&#45;&#45;cube8_cluster1 -->\r\n",
       "<g id=\"edge13\" class=\"edge\"><title>cube7_cluster0&#45;&#45;cube8_cluster1</title>\r\n",
       "<path fill=\"none\" stroke=\"black\" d=\"M-18.4281,232.654C-33.5018,229.372 -68.6679,221.715 -83.8288,218.413\"/>\r\n",
       "</g>\r\n",
       "<!-- cube8_cluster1&#45;&#45;cube9_cluster0 -->\r\n",
       "<g id=\"edge18\" class=\"edge\"><title>cube8_cluster1&#45;&#45;cube9_cluster0</title>\r\n",
       "<path fill=\"none\" stroke=\"black\" d=\"M-97.3281,212.777C-110.469,204.319 -140.55,184.959 -153.505,176.621\"/>\r\n",
       "</g>\r\n",
       "</g>\r\n",
       "</svg>\r\n"
      ],
      "text/plain": [
       "<graphviz.dot.Graph at 0x14aaa080>"
      ]
     },
     "execution_count": 76,
     "metadata": {},
     "output_type": "execute_result"
    }
   ],
   "source": [
    "network=gz.Graph()\n",
    "network.attr(layout='neato')\n",
    "network.attr('node', shape='circle', fixedsize='true', width='0.2', label=None)\n",
    "\n",
    "for node in graph['links']:\n",
    "    for nbr in graph['links'][node]:\n",
    "        network.edge(node, nbr)\n",
    "\n",
    "network"
   ]
  },
  {
   "cell_type": "code",
   "execution_count": 64,
   "metadata": {},
   "outputs": [],
   "source": [
    "%%capture\n",
    "mapper.visualize(graph, path_html=\"circle_example_1.html\",\n",
    "                 title=\"Basic circle\")"
   ]
  }
 ],
 "metadata": {
  "kernelspec": {
   "display_name": "Python 2",
   "language": "python",
   "name": "python2"
  },
  "language_info": {
   "codemirror_mode": {
    "name": "ipython",
    "version": 2
   },
   "file_extension": ".py",
   "mimetype": "text/x-python",
   "name": "python",
   "nbconvert_exporter": "python",
   "pygments_lexer": "ipython2",
   "version": "2.7.13"
  }
 },
 "nbformat": 4,
 "nbformat_minor": 2
}
