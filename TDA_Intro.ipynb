{
 "cells": [
  {
   "cell_type": "markdown",
   "metadata": {},
   "source": [
    "# TDA Introduction"
   ]
  },
  {
   "cell_type": "markdown",
   "metadata": {},
   "source": [
    "This notebook will serve as an introduction to concepts and techniques in topological data analysis. Hopefully this can be achieved through a mix of some high level on the theory parts and practical code examples with some toy datasets.\n",
    "For the code parts we'll use __[keppler mapper](https://github.com/MLWave/kepler-mapper)__ for the mapper applications with some graphviz for showing simple example plots.\n",
    "On the theory side we'll pull from a few places. First stop will be Hatchers __[point set topology notes](https://www.math.cornell.edu/~hatcher/Top/TopNotes.pdf)__ but we'll also use Robert Ghrists *Elementary Applied Topology*\n"
   ]
  },
  {
   "cell_type": "markdown",
   "metadata": {},
   "source": [
    "## Some Topology"
   ]
  },
  {
   "cell_type": "markdown",
   "metadata": {},
   "source": [
    "From a pure maths point of view topology is a study of open sets. The more inuitive line of thinking is that it's a sort of squishy geometry - it's concerned with the shape of spaces but you're allowed to stretch and pull and bend while still considering the results to be essentially the same.\n",
    "\n",
    "Topology looks at shape through the language of open sets. In fact a *topology* on a set $X$ is a collection $O$ of open sets of $X$ satisfying closure under unions and intersections and with both $\\emptyset$ and $X$ contained in $O$.\n",
    "\n",
    "Continuous maps between topological spaces map open sets to open sets. If a space $X$ can be continuously deformed into a space $Y$ then they're *homeomorphic* and equivalent from a topological point of view.\n",
    "The typical example used here is that of a mug being the same as a donut (torus)."
   ]
  },
  {
   "cell_type": "markdown",
   "metadata": {},
   "source": [
    "### Point Clouds and cell complexes"
   ]
  },
  {
   "cell_type": "code",
   "execution_count": null,
   "metadata": {
    "collapsed": true
   },
   "outputs": [],
   "source": []
  }
 ],
 "metadata": {
  "kernelspec": {
   "display_name": "Python 2",
   "language": "python",
   "name": "python2"
  },
  "language_info": {
   "codemirror_mode": {
    "name": "ipython",
    "version": 2
   },
   "file_extension": ".py",
   "mimetype": "text/x-python",
   "name": "python",
   "nbconvert_exporter": "python",
   "pygments_lexer": "ipython2",
   "version": "2.7.13"
  }
 },
 "nbformat": 4,
 "nbformat_minor": 2
}
